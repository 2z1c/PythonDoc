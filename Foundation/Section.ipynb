{
 "cells": [
  {
   "cell_type": "markdown",
   "metadata": {},
   "source": [
    "# 切片\n",
    "\n",
    "# 一维数组的切片\n",
    "## 前置配置"
   ]
  },
  {
   "cell_type": "code",
   "execution_count": 2,
   "metadata": {},
   "outputs": [],
   "source": [
    "# -*-coding:utf-8-*-\n",
    "import numpy as np\n",
    "_Number = 100\n",
    "# 生成 [0~99]\n",
    "Arrays = np.arange(0,_Number)"
   ]
  },
  {
   "cell_type": "markdown",
   "metadata": {},
   "source": [
    "## 操作"
   ]
  },
  {
   "cell_type": "code",
   "execution_count": 3,
   "metadata": {},
   "outputs": [
    {
     "name": "stdout",
     "output_type": "stream",
     "text": "[1 2 3 4]\n"
    }
   ],
   "source": [
    "print(Arrays[1:5])\n",
    "# 切片 Arrays[1] - Arrays[4]"
   ]
  },
  {
   "cell_type": "code",
   "execution_count": 4,
   "metadata": {},
   "outputs": [
    {
     "name": "stdout",
     "output_type": "stream",
     "text": "[0 1 2 3 4]\n"
    }
   ],
   "source": [
    "print(Arrays[:5])\n",
    "# 切片 Arrays[0] - Arrays[4]"
   ]
  },
  {
   "cell_type": "code",
   "execution_count": 5,
   "metadata": {},
   "outputs": [
    {
     "name": "stdout",
     "output_type": "stream",
     "text": "[ 0  5 10 15 20 25 30 35 40 45]\n[ 1  6 11 16 21 26 31 36 41 46 51 56 61 66 71 76 81 86 91 96]\n[10 12 14 16 18 20 22 24 26 28 30 32 34 36 38 40 42 44 46 48 50 52 54 56\n 58 60 62 64 66 68 70 72 74 76 78 80 82 84 86 88]\n"
    }
   ],
   "source": [
    "print(Arrays[:50:5])\n",
    "# [0~50) 每隔 5 抽取一个\n",
    "print(Arrays[1::5])\n",
    "# [1~_Number) 每隔 5 抽取一个\n",
    "print(Arrays[10:90:2])\n",
    "# [10~90) 每隔 2 抽取一个"
   ]
  },
  {
   "cell_type": "code",
   "execution_count": null,
   "metadata": {},
   "outputs": [],
   "source": []
  }
 ],
 "metadata": {
  "kernelspec": {
   "display_name": "Python 3",
   "language": "python",
   "name": "python3"
  },
  "language_info": {
   "codemirror_mode": {
    "name": "ipython",
    "version": 3
   },
   "file_extension": ".py",
   "mimetype": "text/x-python",
   "name": "python",
   "nbconvert_exporter": "python",
   "pygments_lexer": "ipython3",
   "version": "3.8.1-final"
  }
 },
 "nbformat": 4,
 "nbformat_minor": 4
}