{
 "cells": [
  {
   "cell_type": "code",
   "execution_count": 7,
   "metadata": {},
   "outputs": [
    {
     "data": {
      "image/png": "[encoded data removed]",
      "text/plain": [
       "<Figure size 504x360 with 1 Axes>"
      ]
     },
     "metadata": {
      "needs_background": "light"
     },
     "output_type": "display_data"
    }
   ],
   "source": [
    "import matplotlib\n",
    "import matplotlib.pyplot as plt\n",
    "import numpy as np\n",
    "\n",
    "_Numbers = 5\n",
    "labels = ['G1', 'G2', 'G3', 'G4', 'G5']\n",
    "men_means = [20, 34, 30, 35, 27]\n",
    "# women_means = [25, 32, 34, 20, 25]\n",
    "\n",
    "# 图像大小\n",
    "figsize = (7,5)\n",
    "x = np.arange(len(labels))  # the label locations\n",
    "width = 0.35  # the width of the bars\n",
    "fig = plt.figure(figsize=figsize)\n",
    "ax = fig.subplots()\n",
    "rects1 = ax.bar(x, men_means, width, label='Men')\n",
    "# rects2 = ax.bar(x + width/2, women_means, width, label='Women')\n",
    "\n",
    "# Add some text for labels, title and custom x-axis tick labels, etc.\n",
    "ax.set_ylabel('Scores')\n",
    "ax.set_title('Scores by group and gender')\n",
    "ax.set_xticks(x)\n",
    "ax.set_xticklabels(labels)\n",
    "ax.legend()\n",
    "\n",
    "\n",
    "def autolabel(rects):\n",
    "    \"\"\"Attach a text label above each bar in *rects*, displaying its height.\"\"\"\n",
    "    for rect in rects:\n",
    "        height = rect.get_height()\n",
    "        ax.annotate('{}'.format(height),\n",
    "                    xy=(rect.get_x() + rect.get_width() / 2, height),\n",
    "                    xytext=(0, 3),  # 3 points vertical offset\n",
    "                    textcoords=\"offset points\",\n",
    "                    ha='center', va='bottom')\n",
    "\n",
    "\n",
    "autolabel(rects1)\n",
    "\n",
    "fig.tight_layout()\n",
    "\n",
    "plt.show()\n"
   ]
  },
  {
   "cell_type": "code",
   "execution_count": 10,
   "metadata": {},
   "outputs": [
    {
     "data": {
      "image/png": "[encoded data removed]",
      "text/plain": [
       "<Figure size 432x288 with 1 Axes>"
      ]
     },
     "metadata": {
      "needs_background": "light"
     },
     "output_type": "display_data"
    }
   ],
   "source": [
    "\"\"\"\n",
    "==================\n",
    "Animated histogram\n",
    "==================\n",
    "\n",
    "Use a path patch to draw a bunch of rectangles for an animated histogram.\n",
    "\"\"\"\n",
    "\n",
    "import numpy as np\n",
    "\n",
    "import matplotlib.pyplot as plt\n",
    "import matplotlib.patches as patches\n",
    "import matplotlib.path as path\n",
    "import matplotlib.animation as animation\n",
    "\n",
    "_Numbers = 7\n",
    "# Fixing random state for reproducibility\n",
    "np.random.seed(19680801)\n",
    "\n",
    "# histogram our data with numpy\n",
    "# randn 服从正态分布\n",
    "data = np.random.randn(1000)\n",
    "# https://www.cnblogs.com/xubing-613/p/5895548.html\n",
    "n, bins = np.histogram(data, _Numbers)\n",
    "# get the corners of the rectangles for the histogram\n",
    "left = np.array(bins[:-1])\n",
    "right = np.array(bins[1:])\n",
    "bottom = np.zeros(len(left))\n",
    "\n",
    "top = bottom + n\n",
    "nrects = len(left)\n",
    "\n",
    "###############################################################################\n",
    "# Here comes the tricky part -- we have to set up the vertex and path codes\n",
    "# arrays using ``plt.Path.MOVETO``, ``plt.Path.LINETO`` and\n",
    "# ``plt.Path.CLOSEPOLY`` for each rect.\n",
    "#\n",
    "# * We need 1 ``MOVETO`` per rectangle, which sets the initial point.\n",
    "# * We need 3 ``LINETO``'s, which tell Matplotlib to draw lines from\n",
    "#   vertex 1 to vertex 2, v2 to v3, and v3 to v4.\n",
    "# * We then need one ``CLOSEPOLY`` which tells Matplotlib to draw a line from\n",
    "#   the v4 to our initial vertex (the ``MOVETO`` vertex), in order to close the\n",
    "#   polygon.\n",
    "#\n",
    "# .. note::\n",
    "#\n",
    "#   The vertex for ``CLOSEPOLY`` is ignored, but we still need a placeholder\n",
    "#   in the ``verts`` array to keep the codes aligned with the vertices.\n",
    "nverts = nrects * (1 + 3 + 1)\n",
    "verts = np.zeros((nverts, 2))\n",
    "codes = np.ones(nverts, int) * path.Path.LINETO\n",
    "codes[0::5] = path.Path.MOVETO\n",
    "codes[4::5] = path.Path.CLOSEPOLY\n",
    "verts[0::5, 0] = left\n",
    "verts[0::5, 1] = bottom\n",
    "verts[1::5, 0] = left\n",
    "verts[1::5, 1] = top\n",
    "verts[2::5, 0] = right\n",
    "verts[2::5, 1] = top\n",
    "verts[3::5, 0] = right\n",
    "verts[3::5, 1] = bottom\n",
    "\n",
    "###############################################################################\n",
    "# To animate the histogram, we need an ``animate`` function, which generates\n",
    "# a random set of numbers and updates the locations of the vertices for the\n",
    "# histogram (in this case, only the heights of each rectangle). ``patch`` will\n",
    "# eventually be a ``Patch`` object.\n",
    "patch = None\n",
    "\n",
    "\n",
    "def animate(i):\n",
    "    # simulate new data coming in\n",
    "    data = np.random.randn(1000)\n",
    "    n, bins = np.histogram(data, _Numbers)\n",
    "    top = bottom + n\n",
    "    verts[1::5, 1] = top\n",
    "    verts[2::5, 1] = top\n",
    "    return [patch, ]\n",
    "\n",
    "###############################################################################\n",
    "# And now we build the `Path` and `Patch` instances for the histogram using\n",
    "# our vertices and codes. We add the patch to the `Axes` instance, and setup\n",
    "# the `FuncAnimation` with our animate function.\n",
    "fig, ax = plt.subplots()\n",
    "barpath = path.Path(verts, codes)\n",
    "patch = patches.PathPatch(\n",
    "    barpath, facecolor='green', edgecolor='yellow', alpha=0.5)\n",
    "ax.add_patch(patch)\n",
    "\n",
    "ax.set_xlim(left[0], right[-1])\n",
    "ax.set_ylim(bottom.min(), top.max())\n",
    "\n",
    "ani = animation.FuncAnimation(fig, animate, 100, repeat=False, blit=True)\n",
    "plt.show()\n"
   ]
  },
  {
   "cell_type": "code",
   "execution_count": null,
   "metadata": {},
   "outputs": [],
   "source": []
  }
 ],
 "metadata": {
  "kernelspec": {
   "display_name": "Python 3",
   "language": "python",
   "name": "python3"
  },
  "language_info": {
   "codemirror_mode": {
    "name": "ipython",
    "version": 3
   },
   "file_extension": ".py",
   "mimetype": "text/x-python",
   "name": "python",
   "nbconvert_exporter": "python",
   "pygments_lexer": "ipython3",
   "version": "3.8.1"
  }
 },
 "nbformat": 4,
 "nbformat_minor": 4
}
