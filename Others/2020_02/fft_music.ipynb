{
 "cells": [
  {
   "cell_type": "markdown",
   "metadata": {},
   "source": [
    "# 简介\n"
   ]
  },
  {
   "cell_type": "code",
   "execution_count": 18,
   "metadata": {},
   "outputs": [],
   "source": [
    "import numpy as np\n",
    "import matplotlib.pyplot as plt\n",
    "import wave # 分析音频数据\n",
    "\n",
    "# 更新间隔  ms\n",
    "ReadTime = 100\n",
    "# 最多读取  10分钟\n",
    "MAxReadTime = 1000 * 60 * 10\n",
    "# 打开音频数据得到\n",
    "PathToWav = \"sample.wav\"  # form argv get wave file name\n",
    "# 保存PCm数据\n",
    "PcmDataFile = \"PcmData.txt\"\n",
    "# 保存FFT 以后的数据\n",
    "# 指向音频数据\n",
    "PcmData = None"
   ]
  },
  {
   "cell_type": "code",
   "execution_count": 19,
   "metadata": {},
   "outputs": [],
   "source": [
    "def GetMusicParams(Path):\n",
    "    fd = wave.open(Path, 'rb')\n",
    "    fd = wave.open(Path, 'rb')\n",
    "    params = fd.getparams()  # get wave file params\n",
    "    print(params)\n",
    "    nchannels, sampwidth, framerate, nframes = params[:4]\n",
    "    return fd, nchannels, sampwidth, framerate, nframes\n",
    "    pass\n",
    "\n",
    "# 读 ReadTime ms的数据，需要读多少字节\n",
    "def ReadTimeToCount(ReadTime=10, nchannels=2, framerate=44100, sampwidth=2):\n",
    "    # 读 ReadTime ms的数据，需要读多少字节\n",
    "    # 1, 根据 framerate 算出 ， 1ms 会采样多少组数据\n",
    "    _SampleCount = int(framerate / 1000)\n",
    "    # 2, ReadTime * _SampleCount * sampwidth\n",
    "    count = ReadTime * _SampleCount * sampwidth\n",
    "    return int(count)\n",
    "\n",
    "# 根据字节的宽度，转化类型\n",
    "def SampwidthToType(sampwidth):\n",
    "    if sampwidth == 1:\n",
    "        return np.uint8\n",
    "    if sampwidth == 2:\n",
    "        return np.uint16\n",
    "    if sampwidth == 3:\n",
    "        return np.uint24\n",
    "    pass\n",
    "\n",
    "def ReadPcmfd(fd):\n",
    "    pass\n",
    "\n",
    "def FFT(Fs, data,Length):\n",
    "    L = Length\n",
    "    N = int(np.power(2, np.ceil(np.log2(L)))) # 下一个最近二次幂\n",
    "    _data = np.fft.fft(data, N)\n",
    "    pass\n",
    "\n",
    "\n",
    "\n",
    "\n",
    "    \n"
   ]
  },
  {
   "cell_type": "code",
   "execution_count": 20,
   "metadata": {},
   "outputs": [
    {
     "name": "stdout",
     "output_type": "stream",
     "text": [
      "_wave_params(nchannels=1, sampwidth=1, framerate=22050, nframes=137984, comptype='NONE', compname='not compressed')\n",
      "6000\n"
     ]
    }
   ],
   "source": [
    "# 打开数据\n",
    "MusicFd, nchannels, sampwidth, framerate, nframes = GetMusicParams(PathToWav)\n",
    "#open a txt file\n",
    "PcmDataFd=open(PcmDataFile,'w')\n",
    "\n",
    "# 每读 ReadTime ms ，将会读多少单元的数据（不是 byte)\n",
    "UintNums=int(framerate / 1000) * ReadTime\n",
    "UintType=SampwidthToType(sampwidth)\n",
    "Indexs= int(MAxReadTime/ReadTime)\n",
    "\n",
    "for i in range(Indexs):\n",
    "    strData = MusicFd.readframes(16)\n",
    "    # 读取到了数据，不过是 str的数据,将其转化为 UintType 类型数据\n",
    "    Pcmdata = np.frombuffer(strData,dtype=UintType)#将字符串转化为 UintType\n",
    "    # 现在需要将数据归一化\n",
    "    # 减去平均值\n",
    "    Pcmdata = Pcmdata - np.mean(Pcmdata)     # 消除直流分量\n",
    "    Pcmdata = Pcmdata/np.max(np.abs(Pcmdata)) # 幅值归一化\n",
    "    # 开始进行 FFT\n",
    "    \n",
    "    \n",
    "\n",
    "# for i in range (4000): #read 3000*16 bytes   \n",
    "#     data=f.readframes(16)\n",
    "#     ldata=list(data)\n",
    "#     sdata=str(ldata)\n",
    "# #    sdata=sdata.replace('\\\\x',',')\n",
    "#     fData.writelines(sdata[1:-1])   #去掉开头和结尾的无关符号\n",
    "#     fData.write(\",\\n\")     #添加逗号和换行\n",
    "\n",
    "MusicFd.close()\n",
    "PcmDataFd.close()"
   ]
  },
  {
   "cell_type": "code",
   "execution_count": null,
   "metadata": {},
   "outputs": [],
   "source": []
  }
 ],
 "metadata": {
  "kernelspec": {
   "display_name": "Python 3",
   "language": "python",
   "name": "python3"
  },
  "language_info": {
   "codemirror_mode": {
    "name": "ipython",
    "version": 3
   },
   "file_extension": ".py",
   "mimetype": "text/x-python",
   "name": "python",
   "nbconvert_exporter": "python",
   "pygments_lexer": "ipython3",
   "version": "3.8.1"
  }
 },
 "nbformat": 4,
 "nbformat_minor": 4
}
